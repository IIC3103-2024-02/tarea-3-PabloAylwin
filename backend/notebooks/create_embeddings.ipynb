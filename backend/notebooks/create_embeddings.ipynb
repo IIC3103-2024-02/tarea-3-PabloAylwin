{
 "cells": [
  {
   "cell_type": "code",
   "execution_count": null,
   "id": "f8653faa-bffe-4921-9167-67e9d4c7f21a",
   "metadata": {},
   "outputs": [],
   "source": []
  }
 ],
 "metadata": {
  "kernelspec": {
   "display_name": "",
   "name": ""
  },
  "language_info": {
   "name": ""
  }
 },
 "nbformat": 4,
 "nbformat_minor": 5
}
